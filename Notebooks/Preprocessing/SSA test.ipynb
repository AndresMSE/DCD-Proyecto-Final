{
 "cells": [
  {
   "cell_type": "code",
   "execution_count": 8,
   "id": "4b619d19",
   "metadata": {},
   "outputs": [],
   "source": [
    "from data_extraction import *\n",
    "from datap_pipe import * \n",
    "import matplotlib.pyplot as plt\n",
    "from sklearn.base import BaseEstimator, TransformerMixin\n",
    "from CWT import MRA\n",
    "from tqdm import tqdm\n",
    "import tensorflow as tf\n",
    "import multiprocessing\n",
    "import os \n",
    "from SSA import SSA"
   ]
  },
  {
   "cell_type": "code",
   "execution_count": 99,
   "id": "56575521",
   "metadata": {},
   "outputs": [
    {
     "name": "stdout",
     "output_type": "stream",
     "text": [
      "\n",
      " initialize extraction\n",
      "Importing data...\n",
      "\n"
     ]
    },
    {
     "name": "stderr",
     "output_type": "stream",
     "text": [
      "100%|██████████████████████████████████████████████████████████████████████████████████| 14/14 [00:08<00:00,  1.71it/s]\n",
      "  2%|█▏                                                                          | 220/13607 [00:00<00:12, 1092.58it/s]"
     ]
    },
    {
     "name": "stdout",
     "output_type": "stream",
     "text": [
      "Converting to matrix... \n",
      "\n"
     ]
    },
    {
     "name": "stderr",
     "output_type": "stream",
     "text": [
      "100%|██████████████████████████████████████████████████████████████████████████| 13607/13607 [00:12<00:00, 1095.46it/s]\n"
     ]
    },
    {
     "name": "stdout",
     "output_type": "stream",
     "text": [
      "Resulting X matrix shape (13607, 2, 200)\n",
      "\n",
      "Extract Transform invoqued \n"
     ]
    }
   ],
   "source": [
    "extraction = ExtractionTransformer(t0=0, t1=1, filter_channels=['Fp1','P3'])\n",
    "X_dat, y_dat = extraction.fit_transform(1,1)"
   ]
  },
  {
   "cell_type": "code",
   "execution_count": 225,
   "id": "19a813a6",
   "metadata": {},
   "outputs": [],
   "source": [
    "def SSA_fit(X, L,comp_sel_m=['alfa','theta']):\n",
    "        '''Definimos la función que realizará la remoción de artefactos dado el umbral y agrupará las componentes'''\n",
    "        def A_EXTR(signal,glist,l_list,v0=200):\n",
    "            s_max = signal.max()\n",
    "            s_list = np.sqrt(l_list)\n",
    "            # Remoción de artefactos\n",
    "            if s_max < v0:\n",
    "                g_cut = np.delete(glist,0,axis=0)\n",
    "                s_cut = np.delete(s_list,0)\n",
    "            else: \n",
    "                g_cut = np.delete(glist,[0,1],axis=0)\n",
    "                s_cut = np.delete(s_list,[0,1])\n",
    "            #Agrupamiento de las componentes\n",
    "            PC = []\n",
    "            NP = []\n",
    "            for i in range(len(s_cut)):\n",
    "                for k in range(len(s_cut)-1):\n",
    "                    aux_list = np.delete(s_cut,i)\n",
    "                    ratio = abs(1- (aux_list[k]/s_cut[i]))\n",
    "                if ratio < 0.05:\n",
    "                    PC.append(g_cut[i])\n",
    "                else:\n",
    "                    NP.append(g_cut[i])\n",
    "            \n",
    "            return np.array(PC),np.array(NP)\n",
    "        '''Definimos la función que encontrará la frecuencia máxima para cada grupo de componetes'''\n",
    "        def Fmax(PC,NP):\n",
    "            if len(PC) == 0:\n",
    "                PC_ = np.array([0])\n",
    "            else:\n",
    "                PC_fft = np.fft.fft(PC)\n",
    "                PC_fmax = []\n",
    "                for i in range(len(PC)):\n",
    "                    N = len(PC_fft[i])\n",
    "                    T = 1/500\n",
    "                    freq = np.fft.fftfreq(N,T)[1:N//2]\n",
    "                    f_max = np.round(freq[np.argmax(abs(PC_fft[i][1:N//2]))],2)\n",
    "                    PC_fmax.append(f_max)\n",
    "                PC_fmax_s = np.array(sorted(PC_fmax))\n",
    "                PC_ = np.array(PC_fmax_s)\n",
    "            if len(NP) == 0:\n",
    "                NPC_ = np.array(0)\n",
    "            else:\n",
    "                NP_fft = np.fft.fft(NP)\n",
    "                NP_fmax = []\n",
    "                for i in range(len(NP)):\n",
    "                    N = len(NP_fft[i])\n",
    "                    freq = np.fft.fftfreq(N,1/500)[1:N//2]\n",
    "                    f_max = np.round(freq[np.argmax(abs(NP_fft[i][1:N//2]))],2)\n",
    "                    NP_fmax.append(f_max)\n",
    "                NP_fmax_s = np.array(sorted(NP_fmax))\n",
    "                NPC_ = np.array(NP_fmax_s)\n",
    "            return PC_,NPC_\n",
    "\n",
    "        def GRP (PC,NP,comp_sel=comp_sel_m):\n",
    "            cp_max,cnp_max = Fmax(PC,NP)\n",
    "            '''Componentes Theta'''\n",
    "            theta = []\n",
    "            if 'theta' in comp_sel:\n",
    "                for i in range(4,8):\n",
    "                    for k in range(len(cp_max)):\n",
    "                        if int(cp_max[k]) == i:\n",
    "                            theta.append(PC[k])\n",
    "                    for j in range(len(cnp_max)):\n",
    "                        if int(cnp_max[j]) == i:\n",
    "                            theta.append(NP[j])\n",
    "            '''Componentes alfa'''\n",
    "            alfa = []\n",
    "            if ('alfa' or 'alpha') in comp_sel:\n",
    "                for i in range(9,13):\n",
    "                    for k in range(len(cp_max)):\n",
    "                        if int(cp_max[k]) == i:\n",
    "                            alfa.append(PC[k])\n",
    "                    for j in range(len(cnp_max)):\n",
    "                        if int(cnp_max[j]) == i:\n",
    "                            alfa.append(NP[j])\n",
    "            '''Componentes beta'''\n",
    "            beta = []\n",
    "            if 'beta' in comp_sel:\n",
    "                for i in range(14,31):\n",
    "                    for k in range(len(cp_max)):\n",
    "                        if int(cp_max[k]) == i:\n",
    "                            beta.append(PC[k])\n",
    "                    for j in range(len(cnp_max)):\n",
    "                        if int(cnp_max[j]) == i:\n",
    "                            beta.append(NP[j])\n",
    "            '''Componentes gama'''\n",
    "            gama = []\n",
    "            if ('gama' or 'gamma') in comp_sel:\n",
    "                for i in range(32,51):\n",
    "                    for k in range(len(cp_max)):\n",
    "                        if int(cp_max[k]) == i:\n",
    "                            gama.append(PC[k])\n",
    "                    for j in range(len(cnp_max)):\n",
    "                        if int(cnp_max[j]) == i:\n",
    "                            gama.append(NP[j])\n",
    "            '''Componentes baja frecuencia'''\n",
    "            bass=[]\n",
    "            if 'low_f' in comp_sel:\n",
    "                for i in range(1,3):\n",
    "                    for k in range(len(cp_max)):\n",
    "                        if int(cp_max[k]) == i:\n",
    "                            bass.append(PC[k])\n",
    "                    for j in range(len(cnp_max)):\n",
    "                        if int(cnp_max[j]) == i:\n",
    "                            bass.append(NP[j])\n",
    "            '''Componentes de alta frecuencia'''\n",
    "            treble = []\n",
    "            if 'high_f' in comp_sel:\n",
    "                limit = int(max(cp_max.max(),cnp_max.max()))+1\n",
    "                for i in range(52,limit):\n",
    "                    for k in range(len(cp_max)):\n",
    "                        if int(cp_max[k]) == i:\n",
    "                            treble.append(PC[k])\n",
    "                    for j in range(len(cnp_max)):\n",
    "                        if int(cnp_max[j]) == i:\n",
    "                            treble.append(NP[j])\n",
    "            return theta,alfa,beta,gama,bass,treble\n",
    "\n",
    "\n",
    "        X_fit = np.zeros([X.shape[0],X.shape[1],X.shape[2]])\n",
    "        for i in tqdm(range(X.shape[0])):\n",
    "            for j in range(X.shape[1]):\n",
    "                channel_signal = X[i,j]\n",
    "                lam, gklist, wMatrix = SSA(channel_signal,L)\n",
    "                c_per,c_nper = A_EXTR(channel_signal,gklist,lam)\n",
    "                theta,alfa,beta,gama,low_f,high_f = GRP(c_per,c_nper)\n",
    "                comp = []\n",
    "                for c in comp_sel_m:\n",
    "                    if c == ('alfa'or 'alpha'):\n",
    "                        comp.append(alfa)\n",
    "                    if c=='beta':\n",
    "                        comp.append(beta)\n",
    "                    if c==('gamma' or 'gama'):\n",
    "                        comp.append(gama)\n",
    "                    if c=='low_f':\n",
    "                        comp.append(low_f)\n",
    "                    if c=='high_f':\n",
    "                        comp.append(high_f)\n",
    "                    if c=='theta':\n",
    "                        comp.append(theta)\n",
    "                comp_plus = np.zeros(X.shape[2])\n",
    "                for k_ in range(len(comp)):\n",
    "                    if len(comp[k_]) == 0:\n",
    "                        comp[k_] = np.zeros(X.shape[2])\n",
    "                    comp_plus += comp[k_][0]\n",
    "                for n_ in range(X.shape[2]):\n",
    "                    X_fit[i,j,n_] = comp_plus[n_]\n",
    "        return X_fit"
   ]
  },
  {
   "cell_type": "code",
   "execution_count": 230,
   "id": "ec913e74",
   "metadata": {
    "scrolled": true
   },
   "outputs": [
    {
     "name": "stderr",
     "output_type": "stream",
     "text": [
      "100%|██████████████████████████████████████████████████████████████████████████████████| 10/10 [00:02<00:00,  3.93it/s]\n"
     ]
    }
   ],
   "source": [
    "r = SSA_fit(X_dat[:10],50,['alfa','theta'])"
   ]
  },
  {
   "cell_type": "code",
   "execution_count": 229,
   "id": "9962f102",
   "metadata": {},
   "outputs": [
    {
     "data": {
      "image/png": "[encoded data removed]",
      "text/plain": [
       "<Figure size 432x288 with 1 Axes>"
      ]
     },
     "metadata": {
      "needs_background": "light"
     },
     "output_type": "display_data"
    }
   ],
   "source": [
    "for c in range(X_dat.shape[1]):\n",
    "    plt.title('Alfa')\n",
    "    plt.plot(r[0][c])\n",
    "plt.show()"
   ]
  },
  {
   "cell_type": "code",
   "execution_count": 231,
   "id": "712a66ab",
   "metadata": {},
   "outputs": [
    {
     "data": {
      "image/png": "[encoded data removed]",
      "text/plain": [
       "<Figure size 432x288 with 1 Axes>"
      ]
     },
     "metadata": {
      "needs_background": "light"
     },
     "output_type": "display_data"
    }
   ],
   "source": [
    "for c in range(X_dat.shape[1]):\n",
    "    plt.title('Alpha and Theta')\n",
    "    plt.plot(r[0][c])\n",
    "plt.show()"
   ]
  },
  {
   "cell_type": "code",
   "execution_count": 234,
   "id": "21459223",
   "metadata": {},
   "outputs": [
    {
     "data": {
      "text/plain": [
       "(13607, 2, 200)"
      ]
     },
     "execution_count": 234,
     "metadata": {},
     "output_type": "execute_result"
    }
   ],
   "source": [
    "X_dat.shape"
   ]
  },
  {
   "cell_type": "code",
   "execution_count": 232,
   "id": "b391d7de",
   "metadata": {},
   "outputs": [
    {
     "data": {
      "text/plain": [
       "(10, 2, 200)"
      ]
     },
     "execution_count": 232,
     "metadata": {},
     "output_type": "execute_result"
    }
   ],
   "source": [
    "r.shape"
   ]
  }
 ],
 "metadata": {
  "kernelspec": {
   "display_name": "Python 3 (ipykernel)",
   "language": "python",
   "name": "python3"
  },
  "language_info": {
   "codemirror_mode": {
    "name": "ipython",
    "version": 3
   },
   "file_extension": ".py",
   "mimetype": "text/x-python",
   "name": "python",
   "nbconvert_exporter": "python",
   "pygments_lexer": "ipython3",
   "version": "3.8.8"
  }
 },
 "nbformat": 4,
 "nbformat_minor": 5
}
