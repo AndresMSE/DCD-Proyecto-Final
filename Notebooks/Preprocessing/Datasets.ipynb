{
 "cells": [
  {
   "cell_type": "code",
   "execution_count": 1,
   "id": "661cc100",
   "metadata": {},
   "outputs": [],
   "source": [
    "import numpy as np\n",
    "from sklearn.model_selection import train_test_split\n",
    "import tensorflow as tf"
   ]
  },
  {
   "cell_type": "code",
   "execution_count": 2,
   "id": "d96c4816",
   "metadata": {},
   "outputs": [],
   "source": [
    "X_pipe_2 = np.load('X_prep.npy')\n",
    "y_pipe = np.load('y_prep.npy')"
   ]
  },
  {
   "cell_type": "code",
   "execution_count": 3,
   "id": "aca8af5f",
   "metadata": {},
   "outputs": [],
   "source": [
    "sample = np.random.choice(len(X_pipe_2), size=int(len(X_pipe_2)/2))\n",
    "# X_pipe_2 = X_pipe_2[sample]\n",
    "# y_pipe = y_pipe[sample]"
   ]
  },
  {
   "cell_type": "code",
   "execution_count": 4,
   "id": "fc26c560",
   "metadata": {},
   "outputs": [],
   "source": [
    "n_data = len(sample)\n",
    "test_ratio = 0.3\n",
    "train_ratio = int((1.0-test_ratio)*n_data)\n",
    "y_res = tf.keras.utils.to_categorical(y_pipe-1)\n",
    "\n",
    "data_ = X_pipe_2[sample]\n",
    "data_y_ = y_res[sample]\n",
    "\n",
    "X_train = data_[0:train_ratio]\n",
    "X_test  = data_[train_ratio:]\n",
    "X_train = np.expand_dims(X_train, axis=4)\n",
    "X_test = np.expand_dims(X_test, axis=4)\n",
    "\n",
    "y_train=data_y_[0:train_ratio]\n",
    "y_test=data_y_[train_ratio:]"
   ]
  },
  {
   "cell_type": "code",
   "execution_count": 5,
   "id": "753b768d",
   "metadata": {},
   "outputs": [
    {
     "name": "stdout",
     "output_type": "stream",
     "text": [
      "X train shape: (4762, 39, 300, 21, 1)\n",
      "y train shape: (4762, 3)\n",
      "X test shape: (2041, 39, 300, 21, 1)\n",
      "y test shape: (2041, 3)\n"
     ]
    }
   ],
   "source": [
    "print(f'X train shape: {X_train.shape}')\n",
    "print(f'y train shape: {y_train.shape}')\n",
    "print(f'X test shape: {X_test.shape}')\n",
    "print(f'y test shape: {y_test.shape}')"
   ]
  },
  {
   "cell_type": "code",
   "execution_count": 6,
   "id": "e398d882",
   "metadata": {},
   "outputs": [],
   "source": [
    "np.save('X_train_a',X_train)\n",
    "np.save('X_test_a',X_test)\n",
    "np.save('y_train_a',y_train)\n",
    "np.save('y_test_a',y_test)"
   ]
  },
  {
   "cell_type": "code",
   "execution_count": 4,
   "id": "e47d7703",
   "metadata": {},
   "outputs": [],
   "source": [
    "X_train,X_test,y_train,y_test = train_test_split(X_pipe_2,y_pipe,test_size=0.3, stratify=y_pipe, random_state=42)\n",
    "X_train = np.expand_dims(X_train, axis=4)\n",
    "X_test = np.expand_dims(X_test, axis=4)\n",
    "y_test = tf.keras.utils.to_categorical(y_test-1)\n",
    "y_train = tf.keras.utils.to_categorical(y_train-1)"
   ]
  },
  {
   "cell_type": "code",
   "execution_count": 5,
   "id": "8beb9bc2",
   "metadata": {},
   "outputs": [
    {
     "name": "stdout",
     "output_type": "stream",
     "text": [
      "X train shape: (4762, 39, 300, 21, 1)\n",
      "y train shape: (4762, 3)\n",
      "X test shape: (2041, 39, 300, 21, 1)\n",
      "y test shape: (2041, 3)\n"
     ]
    }
   ],
   "source": [
    "print(f'X train shape: {X_train.shape}')\n",
    "print(f'y train shape: {y_train.shape}')\n",
    "print(f'X test shape: {X_test.shape}')\n",
    "print(f'y test shape: {y_test.shape}')"
   ]
  },
  {
   "cell_type": "code",
   "execution_count": 6,
   "id": "2a94430d",
   "metadata": {},
   "outputs": [],
   "source": [
    "np.save('X_train_b',X_train)\n",
    "np.save('X_test_b',X_test)\n",
    "np.save('y_train_b',y_train)\n",
    "np.save('y_test_b',y_test)"
   ]
  },
  {
   "cell_type": "code",
   "execution_count": null,
   "id": "79b2bab3",
   "metadata": {},
   "outputs": [],
   "source": []
  }
 ],
 "metadata": {
  "kernelspec": {
   "display_name": "Python 3 (ipykernel)",
   "language": "python",
   "name": "python3"
  },
  "language_info": {
   "codemirror_mode": {
    "name": "ipython",
    "version": 3
   },
   "file_extension": ".py",
   "mimetype": "text/x-python",
   "name": "python",
   "nbconvert_exporter": "python",
   "pygments_lexer": "ipython3",
   "version": "3.8.8"
  }
 },
 "nbformat": 4,
 "nbformat_minor": 5
}
